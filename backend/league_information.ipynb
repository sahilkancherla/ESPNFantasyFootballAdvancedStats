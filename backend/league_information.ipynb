{
 "cells": [
  {
   "cell_type": "code",
   "execution_count": 2,
   "metadata": {},
   "outputs": [
    {
     "name": "stderr",
     "output_type": "stream",
     "text": [
      "/Users/sahilkancherla/Documents/ESPNFFAdvancedStats/.venv/lib/python3.9/site-packages/urllib3/__init__.py:35: NotOpenSSLWarning: urllib3 v2 only supports OpenSSL 1.1.1+, currently the 'ssl' module is compiled with 'LibreSSL 2.8.3'. See: https://github.com/urllib3/urllib3/issues/3020\n",
      "  warnings.warn(\n"
     ]
    }
   ],
   "source": [
    "from dotenv import load_dotenv\n",
    "import os\n",
    "from espn_api.football import League\n",
    "from util.drafted_players_helper import get_rank_of_player_compared_to_surrounding_drafted_players_same_position, get_surrounding_players_by_position, get_sorted_order_surrounding_drafted_players_same_position, get_next_drafted_players_same_position, get_rank_of_player_compared_to_next_drafted_players_same_position\n",
    "\n",
    "load_dotenv()\n",
    "\n",
    "league_id = os.getenv('LEAGUE_ID')\n",
    "swid = os.getenv('SWID')\n",
    "espn_s2 = os.getenv('ESPN_S2')\n",
    "\n",
    "year = 2024\n",
    "week = 1\n",
    "\n",
    "league = League(league_id=league_id, year=year, espn_s2=espn_s2, swid=swid)"
   ]
  },
  {
   "cell_type": "code",
   "execution_count": 3,
   "metadata": {},
   "outputs": [],
   "source": [
    "def get_league_information(league):\n",
    "    league_information = {}\n",
    "\n",
    "    league_information[\"league_id\"] = league.league_id\n",
    "    league_information[\"year\"] = league.year\n",
    "\n",
    "    teams = {}\n",
    "    members = {}\n",
    "    for team in league.teams:\n",
    "        team_dict = {}\n",
    "    \n",
    "        team_id = team.team_id\n",
    "        team_dict['teamName'] = team.team_name\n",
    "        \n",
    "\n",
    "        member_dict = {}\n",
    "        owner = team.owners[0] # take just primary owner\n",
    "        member_id_raw = owner['id']\n",
    "        member_id = member_id_raw[1:len(member_id_raw)-1]\n",
    "        print(member_id)\n",
    "        member_dict[\"firstName\"] = owner['firstName'].lower()\n",
    "        member_dict[\"lastName\"] = owner['lastName'].lower()\n",
    "        member_dict[\"teamId\"] = team_id\n",
    "\n",
    "        team_dict['ownerId'] = member_id\n",
    "\n",
    "        \n",
    "        teams[team_id] = team_dict\n",
    "        members[member_id] = member_dict\n",
    "            \n",
    "    league_information[\"teams\"] = teams\n",
    "    league_information[\"members\"] = members\n",
    "    \n",
    "    return league_information"
   ]
  },
  {
   "cell_type": "code",
   "execution_count": 4,
   "metadata": {},
   "outputs": [
    {
     "name": "stdout",
     "output_type": "stream",
     "text": [
      "B3844467-6D64-4ED8-A837-EF4D5BE225C1\n",
      "864C6648-6746-42D3-A0D2-C2041D50FADD\n",
      "B446821E-0253-4AD6-82AA-E9B94988BE5B\n",
      "3BF122D4-BDBD-42C2-84FD-3040E50B5DD3\n",
      "E199686A-392B-4C90-90DA-8F2BD6E95DFA\n",
      "540EADC2-83A5-45C9-88E4-6FEA03A1F770\n",
      "21D947DE-746A-40C7-8F8E-AD691439228E\n",
      "4DF82A41-EB71-4B0C-8016-55D19A056D65\n",
      "E6939BEA-95A2-4A19-8643-2535C2A03E21\n",
      "B446821E-0253-4AD6-82AA-E9B94988BE5B\n"
     ]
    }
   ],
   "source": [
    "league_info = get_league_information(league)"
   ]
  },
  {
   "cell_type": "code",
   "execution_count": 5,
   "metadata": {},
   "outputs": [
    {
     "data": {
      "text/plain": [
       "{'league_id': '27289017',\n",
       " 'year': 2024,\n",
       " 'teams': {1: {'teamName': 'TaylorMade 3',\n",
       "   'ownerId': 'B3844467-6D64-4ED8-A837-EF4D5BE225C1'},\n",
       "  2: {'teamName': 'Rigged AF',\n",
       "   'ownerId': '864C6648-6746-42D3-A0D2-C2041D50FADD'},\n",
       "  3: {'teamName': 'Injury Prone',\n",
       "   'ownerId': 'B446821E-0253-4AD6-82AA-E9B94988BE5B'},\n",
       "  4: {'teamName': 'jack goff',\n",
       "   'ownerId': '3BF122D4-BDBD-42C2-84FD-3040E50B5DD3'},\n",
       "  5: {'teamName': 'Chubby Diggs',\n",
       "   'ownerId': 'E199686A-392B-4C90-90DA-8F2BD6E95DFA'},\n",
       "  6: {'teamName': \"Don't Puka The Bear\",\n",
       "   'ownerId': '540EADC2-83A5-45C9-88E4-6FEA03A1F770'},\n",
       "  7: {'teamName': 'How I Metcalf Your Mother',\n",
       "   'ownerId': '21D947DE-746A-40C7-8F8E-AD691439228E'},\n",
       "  8: {'teamName': 'No Punt Intended',\n",
       "   'ownerId': '4DF82A41-EB71-4B0C-8016-55D19A056D65'},\n",
       "  9: {'teamName': 'Christian McCALFrey',\n",
       "   'ownerId': 'E6939BEA-95A2-4A19-8643-2535C2A03E21'},\n",
       "  10: {'teamName': 'League Median',\n",
       "   'ownerId': 'B446821E-0253-4AD6-82AA-E9B94988BE5B'}},\n",
       " 'members': {'B3844467-6D64-4ED8-A837-EF4D5BE225C1': {'firstName': 'rishab',\n",
       "   'lastName': 'mohan',\n",
       "   'teamId': 1},\n",
       "  '864C6648-6746-42D3-A0D2-C2041D50FADD': {'firstName': 'sahil',\n",
       "   'lastName': 'kancherla',\n",
       "   'teamId': 2},\n",
       "  'B446821E-0253-4AD6-82AA-E9B94988BE5B': {'firstName': 'advaith',\n",
       "   'lastName': 'bulusu',\n",
       "   'teamId': 10},\n",
       "  '3BF122D4-BDBD-42C2-84FD-3040E50B5DD3': {'firstName': 'arav',\n",
       "   'lastName': 'manchanda',\n",
       "   'teamId': 4},\n",
       "  'E199686A-392B-4C90-90DA-8F2BD6E95DFA': {'firstName': 'suyash ',\n",
       "   'lastName': 'sanjeev ',\n",
       "   'teamId': 5},\n",
       "  '540EADC2-83A5-45C9-88E4-6FEA03A1F770': {'firstName': 'dhruv',\n",
       "   'lastName': 'vadapalli',\n",
       "   'teamId': 6},\n",
       "  '21D947DE-746A-40C7-8F8E-AD691439228E': {'firstName': 'arnav',\n",
       "   'lastName': 'manchepalli',\n",
       "   'teamId': 7},\n",
       "  '4DF82A41-EB71-4B0C-8016-55D19A056D65': {'firstName': 'akilesh',\n",
       "   'lastName': 'swamy',\n",
       "   'teamId': 8},\n",
       "  'E6939BEA-95A2-4A19-8643-2535C2A03E21': {'firstName': 'sathya',\n",
       "   'lastName': 'venkatesan',\n",
       "   'teamId': 9}}}"
      ]
     },
     "execution_count": 5,
     "metadata": {},
     "output_type": "execute_result"
    }
   ],
   "source": [
    "league_info"
   ]
  },
  {
   "cell_type": "code",
   "execution_count": 9,
   "metadata": {},
   "outputs": [
    {
     "name": "stdout",
     "output_type": "stream",
     "text": [
      "4242896\n"
     ]
    }
   ],
   "source": [
    "len(league.player_map)\n",
    "\n",
    "player_data = {}\n",
    "for player in league.player_map:\n",
    "    print(player)\n",
    "\n",
    "    \n",
    "    break\n"
   ]
  }
 ],
 "metadata": {
  "kernelspec": {
   "display_name": ".venv",
   "language": "python",
   "name": "python3"
  },
  "language_info": {
   "codemirror_mode": {
    "name": "ipython",
    "version": 3
   },
   "file_extension": ".py",
   "mimetype": "text/x-python",
   "name": "python",
   "nbconvert_exporter": "python",
   "pygments_lexer": "ipython3",
   "version": "3.9.6"
  }
 },
 "nbformat": 4,
 "nbformat_minor": 2
}
