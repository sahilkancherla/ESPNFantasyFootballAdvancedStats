{
 "cells": [
  {
   "cell_type": "code",
   "execution_count": 4,
   "metadata": {},
   "outputs": [],
   "source": [
    "from dotenv import load_dotenv\n",
    "import os\n",
    "from espn_api.football import League\n",
    "from util.league_median_helper import get_current_and_projected_scores_for_week, get_league_median_not_including_league_median_opponent"
   ]
  },
  {
   "cell_type": "code",
   "execution_count": 5,
   "metadata": {},
   "outputs": [],
   "source": [
    "load_dotenv()\n",
    "\n",
    "league_id = os.getenv('LEAGUE_ID')\n",
    "swid = os.getenv('SWID')\n",
    "espn_s2 = os.getenv('ESPN_S2')"
   ]
  },
  {
   "cell_type": "code",
   "execution_count": 6,
   "metadata": {},
   "outputs": [],
   "source": [
    "year = 2024"
   ]
  },
  {
   "cell_type": "code",
   "execution_count": 7,
   "metadata": {},
   "outputs": [],
   "source": [
    "league = League(league_id=league_id, year=year, espn_s2=espn_s2, swid=swid)"
   ]
  },
  {
   "cell_type": "code",
   "execution_count": 8,
   "metadata": {},
   "outputs": [],
   "source": [
    "week = 1\n",
    "league_median_name = 'League Median'\n",
    "against_league_median_team_id = 1\n",
    "\n",
    "teams_and_current_scores, teams_and_projected_scores = get_current_and_projected_scores_for_week(league=league, week=week, league_median_name=league_median_name)"
   ]
  },
  {
   "cell_type": "code",
   "execution_count": 9,
   "metadata": {},
   "outputs": [
    {
     "name": "stdout",
     "output_type": "stream",
     "text": [
      "[(1, 111.82), (9, 128.98), (8, 102.98), (4, 67.66), (2, 102.7), (5, 86.04), (7, 85.56), (6, 148.42), (3, 109.88)]\n",
      "[(1, 111.82), (9, 149.06), (8, 112.28), (4, 91.15), (2, 116.46), (5, 86.04), (7, 85.56), (6, 148.42), (3, 123.78)]\n"
     ]
    }
   ],
   "source": [
    "print(teams_and_current_scores)\n",
    "print(teams_and_projected_scores)"
   ]
  },
  {
   "cell_type": "code",
   "execution_count": 10,
   "metadata": {},
   "outputs": [],
   "source": [
    "current_median, projected_median, below_league_median_team_id, above_league_median_team_id = get_league_median_not_including_league_median_opponent(league, week, league_median_name, against_league_median_team_id)"
   ]
  },
  {
   "cell_type": "code",
   "execution_count": 11,
   "metadata": {},
   "outputs": [
    {
     "name": "stdout",
     "output_type": "stream",
     "text": [
      "102.84 114.37 2 8\n"
     ]
    }
   ],
   "source": [
    "print(current_median, projected_median, below_league_median_team_id, above_league_median_team_id)"
   ]
  },
  {
   "cell_type": "code",
   "execution_count": 16,
   "metadata": {},
   "outputs": [],
   "source": [
    "def get_current_data(league, current_week, league_median_name):\n",
    "    teams_and_current_scores, teams_and_projected_scores = get_current_and_projected_scores_for_week(league, current_week, league_median_name)\n",
    "    current_week_scores = {}\n",
    "\n",
    "    for current_score_info, projected_score_info in zip(teams_and_current_scores, teams_and_projected_scores):\n",
    "        team_id = current_score_info[0]\n",
    "        current_score = current_score_info[1]\n",
    "        projected_score = projected_score_info[1]\n",
    "\n",
    "        info = {}\n",
    "        info[\"currentScore\"] = current_score\n",
    "        info[\"projectedScore\"] = projected_score\n",
    "        current_week_scores[team_id] = info\n",
    "    return current_week_scores"
   ]
  },
  {
   "cell_type": "code",
   "execution_count": 17,
   "metadata": {},
   "outputs": [
    {
     "ename": "ValueError",
     "evalue": "too many values to unpack (expected 2)",
     "output_type": "error",
     "traceback": [
      "\u001b[0;31m---------------------------------------------------------------------------\u001b[0m",
      "\u001b[0;31mValueError\u001b[0m                                Traceback (most recent call last)",
      "Cell \u001b[0;32mIn[17], line 1\u001b[0m\n\u001b[0;32m----> 1\u001b[0m current_week_scores \u001b[38;5;241m=\u001b[39m \u001b[43mget_current_data\u001b[49m\u001b[43m(\u001b[49m\u001b[43mleague\u001b[49m\u001b[43m,\u001b[49m\u001b[43m \u001b[49m\u001b[43mweek\u001b[49m\u001b[43m,\u001b[49m\u001b[43m \u001b[49m\u001b[43mleague_median_name\u001b[49m\u001b[43m)\u001b[49m\n",
      "Cell \u001b[0;32mIn[16], line 5\u001b[0m, in \u001b[0;36mget_current_data\u001b[0;34m(league, current_week, league_median_name)\u001b[0m\n\u001b[1;32m      2\u001b[0m teams_and_current_scores, teams_and_projected_scores \u001b[38;5;241m=\u001b[39m get_current_and_projected_scores_for_week(league, current_week, league_median_name)\n\u001b[1;32m      3\u001b[0m current_week_scores \u001b[38;5;241m=\u001b[39m {}\n\u001b[0;32m----> 5\u001b[0m \u001b[38;5;28;01mfor\u001b[39;00m current_score_info, projected_score_info \u001b[38;5;129;01min\u001b[39;00m [teams_and_current_scores, teams_and_projected_scores]:\n\u001b[1;32m      6\u001b[0m     team_id \u001b[38;5;241m=\u001b[39m current_score_info[\u001b[38;5;241m0\u001b[39m]\n\u001b[1;32m      7\u001b[0m     current_score \u001b[38;5;241m=\u001b[39m current_score_info[\u001b[38;5;241m1\u001b[39m]\n",
      "\u001b[0;31mValueError\u001b[0m: too many values to unpack (expected 2)"
     ]
    }
   ],
   "source": [
    "current_week_scores = get_current_data(league, week, league_median_name)"
   ]
  }
 ],
 "metadata": {
  "kernelspec": {
   "display_name": ".venv",
   "language": "python",
   "name": "python3"
  },
  "language_info": {
   "codemirror_mode": {
    "name": "ipython",
    "version": 3
   },
   "file_extension": ".py",
   "mimetype": "text/x-python",
   "name": "python",
   "nbconvert_exporter": "python",
   "pygments_lexer": "ipython3",
   "version": "3.9.6"
  }
 },
 "nbformat": 4,
 "nbformat_minor": 2
}
