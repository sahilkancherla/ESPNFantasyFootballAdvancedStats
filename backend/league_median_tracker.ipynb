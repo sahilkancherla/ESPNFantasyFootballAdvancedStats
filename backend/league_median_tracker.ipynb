{
 "cells": [
  {
   "cell_type": "code",
   "execution_count": 1,
   "metadata": {},
   "outputs": [
    {
     "name": "stderr",
     "output_type": "stream",
     "text": [
      "/Users/sahilkancherla/Documents/ESPNFFAdvancedStats/.venv/lib/python3.9/site-packages/urllib3/__init__.py:35: NotOpenSSLWarning: urllib3 v2 only supports OpenSSL 1.1.1+, currently the 'ssl' module is compiled with 'LibreSSL 2.8.3'. See: https://github.com/urllib3/urllib3/issues/3020\n",
      "  warnings.warn(\n"
     ]
    }
   ],
   "source": [
    "from dotenv import load_dotenv\n",
    "import os\n",
    "from espn_api.football import League\n",
    "from util.league_median_helper import get_current_and_projected_scores_for_week, get_league_median_not_including_league_median_opponent"
   ]
  },
  {
   "cell_type": "code",
   "execution_count": 2,
   "metadata": {},
   "outputs": [],
   "source": [
    "load_dotenv()\n",
    "\n",
    "league_id = os.getenv('LEAGUE_ID')\n",
    "swid = os.getenv('SWID')\n",
    "espn_s2 = os.getenv('ESPN_S2')"
   ]
  },
  {
   "cell_type": "code",
   "execution_count": 3,
   "metadata": {},
   "outputs": [],
   "source": [
    "year = 2024"
   ]
  },
  {
   "cell_type": "code",
   "execution_count": 4,
   "metadata": {},
   "outputs": [],
   "source": [
    "league = League(league_id=league_id, year=year, espn_s2=espn_s2, swid=swid)"
   ]
  },
  {
   "cell_type": "code",
   "execution_count": 5,
   "metadata": {},
   "outputs": [],
   "source": [
    "week = 1\n",
    "league_median_name = 'League Median'\n",
    "against_league_median_team_id = 1\n",
    "\n",
    "teams_and_current_scores, teams_and_projected_scores = get_current_and_projected_scores_for_week(league=league, week=week, league_median_name=league_median_name)"
   ]
  },
  {
   "cell_type": "code",
   "execution_count": 6,
   "metadata": {},
   "outputs": [
    {
     "name": "stdout",
     "output_type": "stream",
     "text": [
      "[(1, 111.82), (9, 150.68), (8, 108.98), (4, 84.46), (2, 111.7), (5, 86.04), (7, 85.56), (6, 148.42), (3, 126.08)]\n",
      "[(1, 114.78999999999998), (9, 101.61), (8, 111.86999999999999), (4, 107.44), (2, 113.11), (5, 113.53), (7, 111.01), (6, 115.88999999999999), (3, 111.89)]\n"
     ]
    }
   ],
   "source": [
    "print(teams_and_current_scores)\n",
    "print(teams_and_projected_scores)"
   ]
  },
  {
   "cell_type": "code",
   "execution_count": 7,
   "metadata": {},
   "outputs": [],
   "source": [
    "current_median, projected_median, below_league_median_team_id, above_league_median_team_id = get_league_median_not_including_league_median_opponent(league, week, league_median_name, against_league_median_team_id)"
   ]
  },
  {
   "cell_type": "code",
   "execution_count": 8,
   "metadata": {},
   "outputs": [
    {
     "name": "stdout",
     "output_type": "stream",
     "text": [
      "110.34 111.88 8 2\n"
     ]
    }
   ],
   "source": [
    "print(current_median, projected_median, below_league_median_team_id, above_league_median_team_id)"
   ]
  },
  {
   "cell_type": "code",
   "execution_count": 9,
   "metadata": {},
   "outputs": [],
   "source": [
    "def get_current_data(league, current_week, league_median_name):\n",
    "    teams_and_current_scores, teams_and_projected_scores = get_current_and_projected_scores_for_week(league, current_week, league_median_name)\n",
    "    current_week_scores = {}\n",
    "\n",
    "    for current_score_info, projected_score_info in zip(teams_and_current_scores, teams_and_projected_scores):\n",
    "        team_id = current_score_info[0]\n",
    "        current_score = current_score_info[1]\n",
    "        projected_score = projected_score_info[1]\n",
    "\n",
    "        info = {}\n",
    "        info[\"currentScore\"] = current_score\n",
    "        info[\"projectedScore\"] = projected_score\n",
    "        current_week_scores[team_id] = info\n",
    "    return current_week_scores"
   ]
  },
  {
   "cell_type": "code",
   "execution_count": 10,
   "metadata": {},
   "outputs": [],
   "source": [
    "current_week_scores = get_current_data(league, week, league_median_name)"
   ]
  },
  {
   "cell_type": "code",
   "execution_count": 11,
   "metadata": {},
   "outputs": [
    {
     "data": {
      "text/plain": [
       "{1: {'currentScore': 111.82, 'projectedScore': 114.78999999999998},\n",
       " 9: {'currentScore': 150.68, 'projectedScore': 101.61},\n",
       " 8: {'currentScore': 108.98, 'projectedScore': 111.86999999999999},\n",
       " 4: {'currentScore': 84.46, 'projectedScore': 107.44},\n",
       " 2: {'currentScore': 111.7, 'projectedScore': 113.11},\n",
       " 5: {'currentScore': 86.04, 'projectedScore': 113.53},\n",
       " 7: {'currentScore': 85.56, 'projectedScore': 111.01},\n",
       " 6: {'currentScore': 148.42, 'projectedScore': 115.88999999999999},\n",
       " 3: {'currentScore': 126.08, 'projectedScore': 111.89}}"
      ]
     },
     "execution_count": 11,
     "metadata": {},
     "output_type": "execute_result"
    }
   ],
   "source": [
    "current_week_scores"
   ]
  }
 ],
 "metadata": {
  "kernelspec": {
   "display_name": ".venv",
   "language": "python",
   "name": "python3"
  },
  "language_info": {
   "codemirror_mode": {
    "name": "ipython",
    "version": 3
   },
   "file_extension": ".py",
   "mimetype": "text/x-python",
   "name": "python",
   "nbconvert_exporter": "python",
   "pygments_lexer": "ipython3",
   "version": "3.9.6"
  }
 },
 "nbformat": 4,
 "nbformat_minor": 2
}
