{
 "cells": [
  {
   "cell_type": "markdown",
   "metadata": {},
   "source": [
    "This notebook focuses on calculating the missed points for each team by week"
   ]
  },
  {
   "cell_type": "code",
   "execution_count": 1,
   "metadata": {},
   "outputs": [
    {
     "name": "stderr",
     "output_type": "stream",
     "text": [
      "/Users/sahilkancherla/Documents/ESPNFFAdvancedStats/.venv/lib/python3.9/site-packages/urllib3/__init__.py:35: NotOpenSSLWarning: urllib3 v2 only supports OpenSSL 1.1.1+, currently the 'ssl' module is compiled with 'LibreSSL 2.8.3'. See: https://github.com/urllib3/urllib3/issues/3020\n",
      "  warnings.warn(\n"
     ]
    },
    {
     "ename": "ModuleNotFoundError",
     "evalue": "No module named 'util'",
     "output_type": "error",
     "traceback": [
      "\u001b[0;31m---------------------------------------------------------------------------\u001b[0m",
      "\u001b[0;31mModuleNotFoundError\u001b[0m                       Traceback (most recent call last)",
      "Cell \u001b[0;32mIn[1], line 4\u001b[0m\n\u001b[1;32m      2\u001b[0m \u001b[38;5;28;01mimport\u001b[39;00m \u001b[38;5;21;01mos\u001b[39;00m\n\u001b[1;32m      3\u001b[0m \u001b[38;5;28;01mfrom\u001b[39;00m \u001b[38;5;21;01mespn_api\u001b[39;00m\u001b[38;5;21;01m.\u001b[39;00m\u001b[38;5;21;01mfootball\u001b[39;00m \u001b[38;5;28;01mimport\u001b[39;00m League\n\u001b[0;32m----> 4\u001b[0m \u001b[38;5;28;01mfrom\u001b[39;00m \u001b[38;5;21;01mutil\u001b[39;00m\u001b[38;5;21;01m.\u001b[39;00m\u001b[38;5;21;01mplayer_tiers_helper\u001b[39;00m \u001b[38;5;28;01mimport\u001b[39;00m get_player_id_to_player_dict\n\u001b[1;32m      5\u001b[0m \u001b[38;5;28;01mfrom\u001b[39;00m \u001b[38;5;21;01mutil\u001b[39;00m\u001b[38;5;21;01m.\u001b[39;00m\u001b[38;5;21;01mplayer_helper\u001b[39;00m \u001b[38;5;28;01mimport\u001b[39;00m get_team_actual_lineup_given_week, get_team_actual_lineup_given_week_total_points, get_player_points_or_projected_points, get_team_best_lineup_given_week, get_team_best_lineup_given_week_total_points, get_team_actual_lineup_player_ids_given_week, get_team_best_lineup_player_ids_given_week\n",
      "\u001b[0;31mModuleNotFoundError\u001b[0m: No module named 'util'"
     ]
    }
   ],
   "source": [
    "from dotenv import load_dotenv\n",
    "import os\n",
    "from espn_api.football import League\n",
    "from util.player_tiers_helper import get_player_id_to_player_dict\n",
    "from util.player_helper import get_team_actual_lineup_given_week, get_team_actual_lineup_given_week_total_points, get_player_points_or_projected_points, get_team_best_lineup_given_week, get_team_best_lineup_given_week_total_points, get_team_actual_lineup_player_ids_given_week, get_team_best_lineup_player_ids_given_week"
   ]
  },
  {
   "cell_type": "code",
   "execution_count": null,
   "metadata": {},
   "outputs": [],
   "source": [
    "load_dotenv()\n",
    "\n",
    "league_id = os.getenv('LEAGUE_ID')\n",
    "swid = os.getenv('SWID')\n",
    "espn_s2 = os.getenv('ESPN_S2')"
   ]
  },
  {
   "cell_type": "code",
   "execution_count": null,
   "metadata": {},
   "outputs": [],
   "source": [
    "year = 2024"
   ]
  },
  {
   "cell_type": "code",
   "execution_count": null,
   "metadata": {},
   "outputs": [],
   "source": [
    "league = League(league_id=league_id, year=year, espn_s2=espn_s2, swid=swid)"
   ]
  },
  {
   "cell_type": "code",
   "execution_count": null,
   "metadata": {},
   "outputs": [],
   "source": [
    "week = 1"
   ]
  },
  {
   "cell_type": "code",
   "execution_count": null,
   "metadata": {},
   "outputs": [],
   "source": [
    "def get_ids_of_starters(league, team_name, week, ignore_slots = [\"BE\", \"IR\"]):\n",
    "    for box_score in league.box_scores(week = week):\n",
    "        if box_score.home_team.team_name == team_name:\n",
    "            lineup = box_score.home_lineup\n",
    "        elif box_score.away_team.team_name == team_name:\n",
    "            lineup = box_score.away_lineup\n",
    "        else:\n",
    "            continue\n",
    "\n",
    "        player_ids = []\n",
    "\n",
    "        for player in lineup:\n",
    "            if not ignore_slots.__contains__(player.lineupSlot):\n",
    "                player_ids.append(player.playerId)\n",
    "        return player_ids\n",
    "\n",
    "    return None"
   ]
  },
  {
   "cell_type": "code",
   "execution_count": null,
   "metadata": {},
   "outputs": [],
   "source": [
    "# def get_substitutions_for_best_lineup(league, team_name, week):\n",
    "    \n",
    "#     changes = []\n",
    "\n",
    "#     actual_lineup = get_team_actual_lineup_given_week(league, team_name, week)\n",
    "#     best_lineup = get_team_best_lineup_given_week(league, team_name, week)\n",
    "\n",
    "#     for position in best_lineup.keys():\n",
    "#         best_players_at_pos = []\n",
    "#         actual_players_at_pos = []\n",
    "\n",
    "#         for boxPlayer in best_lineup[position]:\n",
    "#             best_players_at_pos.append((boxPlayer.playerId, boxPlayer))\n",
    "\n",
    "#         for boxPlayer in actual_lineup[position]:\n",
    "#             actual_players_at_pos.append((boxPlayer.playerId, boxPlayer))\n",
    "\n",
    "#         diff_best_players_at_pos = [player for player in best_players_at_pos if player[0] not in [p[0] for p in actual_players_at_pos]]\n",
    "#         diff_actual_players_at_pos = [player for player in actual_players_at_pos if player[0] not in [p[0] for p in best_players_at_pos]]\n",
    "        \n",
    "#         sorted_diff_best_players_at_pos = sorted(diff_best_players_at_pos, key=lambda player: get_player_points_or_projected_points(player[1]), reverse=True)\n",
    "#         sorted_diff_actual_players_at_pos = sorted(diff_actual_players_at_pos, key=lambda player: get_player_points_or_projected_points(player[1]), reverse=True)\n",
    "\n",
    "#         actual_ids = get_ids_of_starters(league, team_name, week)\n",
    "\n",
    "#         for i, better_player in enumerate(sorted_diff_best_players_at_pos):\n",
    "#             actual_player = sorted_diff_actual_players_at_pos[i][1]\n",
    "\n",
    "#             if better_player[0] not in actual_ids:\n",
    "#                 changes.append((better_player[1], actual_player, position))\n",
    "\n",
    "#     return changes    \n",
    "        \n",
    "\n"
   ]
  },
  {
   "cell_type": "code",
   "execution_count": null,
   "metadata": {},
   "outputs": [],
   "source": [
    "# def assign_players_to_slots(empty_slots, players):\n",
    "#     assigned_slots = {}\n",
    "\n",
    "#     for slot in empty_slots:\n",
    "#         for player in players:\n",
    "#             if slot in player.eligibleSlots:\n",
    "#                 assigned_slots[slot] = player\n",
    "                \n",
    "#                 players.remove(player)\n",
    "#                 break\n",
    "#         else:\n",
    "#             assigned_slots[slot] = None\n",
    "    \n",
    "#     return assigned_slots\n",
    "\n",
    "# def get_substitutions_for_best_lineup(league, team_name, week):\n",
    "    \n",
    "#     changes = []\n",
    "\n",
    "#     actual_lineup = get_team_actual_lineup_given_week(league, team_name, week)\n",
    "#     best_lineup = get_team_best_lineup_given_week(league, team_name, week)\n",
    "\n",
    "#     best_players = []\n",
    "#     actual_players = []\n",
    "\n",
    "#     for position in best_lineup.keys():\n",
    "\n",
    "#         for boxPlayer in best_lineup[position]:\n",
    "#             best_players.append((boxPlayer.playerId, boxPlayer))\n",
    "\n",
    "#         for boxPlayer in actual_lineup[position]:\n",
    "#             actual_players.append((boxPlayer.playerId, boxPlayer))\n",
    "\n",
    "#     unique_best_players = [player for player in best_players if player[0] not in [p[0] for p in actual_players]]\n",
    "#     unique_actual_players = [player for player in actual_players if player[0] not in [p[0] for p in best_players]]\n",
    "\n",
    "#     # find the positions that need to be filled by new players\n",
    "\n",
    "#     best_players = []\n",
    "\n",
    "#     for player in unique_best_players:\n",
    "#         best_players.append(player[1])\n",
    "\n",
    "#     empty_slots = []\n",
    "#     for player in unique_actual_players:\n",
    "#         empty_slots.append(player[1].slot_position)\n",
    "\n",
    "#     print('unique_best_players', unique_best_players)\n",
    "#     print('unique_actual_players', unique_actual_players)\n",
    "#     print('empty_slots', empty_slots)\n",
    "#     assigned_slots = assign_players_to_slots(empty_slots, best_players)\n",
    "\n",
    "#     print(\"Assigned_slots\", assigned_slots)\n",
    "    \n",
    "#     changes = []\n",
    "#     for i, slot in enumerate(empty_slots):\n",
    "#         changes.append((slot, assigned_slots[slot], unique_actual_players[i][1]))\n",
    "\n",
    "#     return changes\n",
    "\n",
    "    "
   ]
  },
  {
   "cell_type": "code",
   "execution_count": null,
   "metadata": {},
   "outputs": [],
   "source": [
    "def assign_players_to_slots(empty_slots, players):\n",
    "    assigned_slots = {}\n",
    "\n",
    "    for slot in empty_slots:\n",
    "        for player in players:\n",
    "            if slot in player.eligibleSlots:\n",
    "                assigned_slots[slot] = player\n",
    "                \n",
    "                players.remove(player)\n",
    "                break\n",
    "        else:\n",
    "            assigned_slots[slot] = None\n",
    "    \n",
    "    return assigned_slots\n",
    "\n",
    "def remove_common_elements_from_dicts(dict1, dict2):\n",
    "    for key in dict1.keys():\n",
    "        if key in dict2:\n",
    "            list1 = dict1[key]\n",
    "            list2 = dict2[key]\n",
    "            \n",
    "            common_elements = set(list1) & set(list2)\n",
    "            \n",
    "            dict1[key] = [item for item in list1 if item not in common_elements]\n",
    "            dict2[key] = [item for item in list2 if item not in common_elements]\n",
    "    \n",
    "    dict1 = {key: value for key, value in dict1.items() if value}\n",
    "    dict2 = {key: value for key, value in dict2.items() if value}\n",
    "    \n",
    "    return dict1, dict2\n",
    "\n",
    "def get_substitutions_for_best_lineup(league, team_name, week):\n",
    "    \n",
    "    actual_lineup = get_team_actual_lineup_player_ids_given_week(league, team_name, week)\n",
    "    best_lineup = get_team_best_lineup_player_ids_given_week(league, team_name, week)\n",
    "\n",
    "    new_actual_lineup, new_best_lineup = remove_common_elements_from_dicts(actual_lineup, best_lineup)\n",
    "\n",
    "    print(new_actual_lineup)\n",
    "    print(new_best_lineup)\n",
    "    "
   ]
  },
  {
   "cell_type": "code",
   "execution_count": null,
   "metadata": {},
   "outputs": [
    {
     "name": "stdout",
     "output_type": "stream",
     "text": [
      "{'WR': [4047650], 'RB': [4047365, 4430737], 'RB/WR/TE': [3045147], 'QB': [3915511]}\n",
      "{'QB': [2577417], 'RB': [3045147, 4241474], 'WR': [4362249], 'RB/WR/TE': [4430737]}\n"
     ]
    }
   ],
   "source": [
    "get_substitutions_for_best_lineup(league, \"How I Metcalf Your Mother\", 1)"
   ]
  },
  {
   "cell_type": "code",
   "execution_count": null,
   "metadata": {},
   "outputs": [
    {
     "name": "stdout",
     "output_type": "stream",
     "text": [
      "Name:  TaylorMade 3\n",
      "Missed points:  5.85\n",
      "Name:  Rigged AF\n",
      "Missed points:  7.2\n",
      "Name:  Injury Prone\n",
      "Missed points:  21.6\n",
      "Name:  jack goff\n",
      "Missed points:  20.7\n",
      "Name:  Chubby Diggs\n",
      "Missed points:  33.2\n",
      "Name:  Don't Puka The Bear\n",
      "Missed points:  1.0\n",
      "Name:  How I Metcalf Your Mother\n",
      "Missed points:  38.1\n",
      "Name:  No Punt Intended\n",
      "Missed points:  6.5\n",
      "Name:  Christian McCarryMe\n",
      "Missed points:  0.97\n"
     ]
    }
   ],
   "source": [
    "for team in league.teams:\n",
    "    team_name = team.team_name\n",
    "    if team_name == 'Unknown' or team_name == \"League Median\":\n",
    "        continue\n",
    "\n",
    "    actual_pts = get_team_actual_lineup_given_week_total_points(league, team_name, week, [\"BE\", \"IR\"])\n",
    "    actual_lineup = get_team_actual_lineup_given_week(league, team_name, week, [\"BE\", \"IR\"])\n",
    "    best_pts = get_team_best_lineup_given_week_total_points(league, team_name, week, [\"BE\", \"IR\"])\n",
    "    best_lineup = get_team_best_lineup_given_week(league, team_name, week, [\"BE\", \"IR\"])\n",
    "        \n",
    "    print(\"Name: \", team_name)\n",
    "    print(\"Missed points: \", abs(max(round(best_pts - actual_pts, 2), 0)))\n",
    "    # changes = get_substitutions_for_best_lineup(league, team_name, week)\n",
    "\n",
    "    # for position, better_player, actual_player  in changes:\n",
    "    #     print(team_name + \" should have started \" + better_player.name + \" over \" + actual_player.name + \" at \" + position)\n",
    "    # print()\n",
    "\n"
   ]
  },
  {
   "cell_type": "code",
   "execution_count": null,
   "metadata": {},
   "outputs": [],
   "source": []
  }
 ],
 "metadata": {
  "kernelspec": {
   "display_name": ".venv",
   "language": "python",
   "name": "python3"
  },
  "language_info": {
   "codemirror_mode": {
    "name": "ipython",
    "version": 3
   },
   "file_extension": ".py",
   "mimetype": "text/x-python",
   "name": "python",
   "nbconvert_exporter": "python",
   "pygments_lexer": "ipython3",
   "version": "3.9.6"
  }
 },
 "nbformat": 4,
 "nbformat_minor": 2
}
