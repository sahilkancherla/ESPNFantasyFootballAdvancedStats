{
 "cells": [
  {
   "cell_type": "markdown",
   "metadata": {},
   "source": [
    "This notebook focuses on calculating the missed points for each team by week"
   ]
  },
  {
   "cell_type": "code",
   "execution_count": 1,
   "metadata": {},
   "outputs": [
    {
     "name": "stderr",
     "output_type": "stream",
     "text": [
      "/Users/sahilkancherla/Documents/ESPNFFAdvancedStats/.venv/lib/python3.9/site-packages/urllib3/__init__.py:35: NotOpenSSLWarning: urllib3 v2 only supports OpenSSL 1.1.1+, currently the 'ssl' module is compiled with 'LibreSSL 2.8.3'. See: https://github.com/urllib3/urllib3/issues/3020\n",
      "  warnings.warn(\n"
     ]
    }
   ],
   "source": [
    "from dotenv import load_dotenv\n",
    "import os\n",
    "from espn_api.football import League\n",
    "from util.player_helper import get_team_actual_lineup_given_week, get_team_actual_lineup_given_week_total_points, get_team_best_lineup_given_week, get_team_best_lineup_given_week_total_points"
   ]
  },
  {
   "cell_type": "code",
   "execution_count": 2,
   "metadata": {},
   "outputs": [],
   "source": [
    "load_dotenv()\n",
    "\n",
    "league_id = os.getenv('LEAGUE_ID')\n",
    "swid = os.getenv('SWID')\n",
    "espn_s2 = os.getenv('ESPN_S2')"
   ]
  },
  {
   "cell_type": "code",
   "execution_count": 3,
   "metadata": {},
   "outputs": [],
   "source": [
    "year = 2024"
   ]
  },
  {
   "cell_type": "code",
   "execution_count": 4,
   "metadata": {},
   "outputs": [],
   "source": [
    "league = League(league_id=league_id, year=year, espn_s2=espn_s2, swid=swid)"
   ]
  },
  {
   "cell_type": "code",
   "execution_count": 5,
   "metadata": {},
   "outputs": [],
   "source": [
    "week = 1"
   ]
  },
  {
   "cell_type": "code",
   "execution_count": 7,
   "metadata": {},
   "outputs": [
    {
     "name": "stdout",
     "output_type": "stream",
     "text": [
      "Name:  TaylorMade 3\n",
      "Missed points:  -0.0\n",
      "\n",
      "Name:  Rigged AF\n",
      "Missed points:  0.0\n",
      "\n",
      "Name:  Injury Prone\n",
      "Missed points:  0.33\n",
      "\n",
      "Name:  jack goff\n",
      "Missed points:  8.61\n",
      "\n",
      "Name:  Chubby Diggs\n",
      "Missed points:  1.69\n",
      "\n",
      "Name:  Don't Puka The Bear\n",
      "Missed points:  0.0\n",
      "\n",
      "Name:  How I Metcalf Your Mother\n",
      "Missed points:  0.0\n",
      "\n",
      "Name:  No Punt Intended\n",
      "Missed points:  0.0\n",
      "\n",
      "Name:  Christian McCarryMe\n",
      "Missed points:  0.6\n",
      "\n"
     ]
    }
   ],
   "source": [
    "for team in league.teams:\n",
    "    team_name = team.team_name\n",
    "    if team_name == 'Unknown' or team_name == \"League Median\":\n",
    "        continue\n",
    "\n",
    "    actual_pts = get_team_actual_lineup_given_week_total_points(league, team_name, week, [\"BE\", \"IR\"])\n",
    "    actual_lineup = get_team_actual_lineup_given_week(league, team_name, week, [\"BE\", \"IR\"])\n",
    "    best_pts = get_team_best_lineup_given_week_total_points(league, team_name, week, [\"BE\", \"IR\"])\n",
    "    best_lineup = get_team_best_lineup_given_week(league, team_name, week, [\"BE\", \"IR\"])\n",
    "\n",
    "    print(\"Name: \", team_name)\n",
    "    print(\"Missed points: \", max(round(best_pts - actual_pts, 2), 0))\n",
    "    print()\n",
    "\n"
   ]
  },
  {
   "cell_type": "markdown",
   "metadata": {},
   "source": [
    "Next steps:\n",
    "Get difference for all teams by week and total\n",
    "Show the substitutions that should have been made to optimize the team"
   ]
  }
 ],
 "metadata": {
  "kernelspec": {
   "display_name": ".venv",
   "language": "python",
   "name": "python3"
  },
  "language_info": {
   "codemirror_mode": {
    "name": "ipython",
    "version": 3
   },
   "file_extension": ".py",
   "mimetype": "text/x-python",
   "name": "python",
   "nbconvert_exporter": "python",
   "pygments_lexer": "ipython3",
   "version": "3.9.6"
  }
 },
 "nbformat": 4,
 "nbformat_minor": 2
}
