{
 "cells": [
  {
   "cell_type": "code",
   "execution_count": 1,
   "metadata": {},
   "outputs": [
    {
     "name": "stderr",
     "output_type": "stream",
     "text": [
      "/Users/sahilkancherla/Documents/ESPNFFAdvancedStats/.venv/lib/python3.9/site-packages/urllib3/__init__.py:35: NotOpenSSLWarning: urllib3 v2 only supports OpenSSL 1.1.1+, currently the 'ssl' module is compiled with 'LibreSSL 2.8.3'. See: https://github.com/urllib3/urllib3/issues/3020\n",
      "  warnings.warn(\n"
     ]
    }
   ],
   "source": [
    "from dotenv import load_dotenv\n",
    "import os\n",
    "from espn_api.football import League\n",
    "from util.player_tiers_helper import get_tier_to_players_by_team"
   ]
  },
  {
   "cell_type": "code",
   "execution_count": 2,
   "metadata": {},
   "outputs": [],
   "source": [
    "load_dotenv()\n",
    "\n",
    "league_id = os.getenv('LEAGUE_ID')\n",
    "swid = os.getenv('SWID')\n",
    "espn_s2 = os.getenv('ESPN_S2')"
   ]
  },
  {
   "cell_type": "code",
   "execution_count": 3,
   "metadata": {},
   "outputs": [],
   "source": [
    "year = 2024"
   ]
  },
  {
   "cell_type": "code",
   "execution_count": 4,
   "metadata": {},
   "outputs": [],
   "source": [
    "league = League(league_id=league_id, year=year, espn_s2=espn_s2, swid=swid)"
   ]
  },
  {
   "cell_type": "code",
   "execution_count": 5,
   "metadata": {},
   "outputs": [],
   "source": [
    "tier_size = 9"
   ]
  },
  {
   "cell_type": "code",
   "execution_count": 6,
   "metadata": {},
   "outputs": [],
   "source": [
    "tiers_to_players = get_tier_to_players_by_team(league, tier_size, 100)"
   ]
  },
  {
   "cell_type": "code",
   "execution_count": 7,
   "metadata": {},
   "outputs": [
    {
     "data": {
      "text/plain": [
       "{1: {'RB_1': [4242335, 4379399, 4361579, 4040761, 4569987, 4596334],\n",
       "  'WR_1': [4047646, 4035687, 4595348, 4430878, 4426388],\n",
       "  'TE_1': [4361307],\n",
       "  'QB_1': [3916387, 4426348],\n",
       "  'D/ST_1': [-16015, -16033],\n",
       "  'K_1': [4362081]},\n",
       " 2: {'RB_2': [4430807, 3054850, 4362238, 4038815],\n",
       "  'RB_1': [4361529],\n",
       "  'WR_1': [4429615, 4428331],\n",
       "  'WR_2': [15818, 4569618, 4241478],\n",
       "  'K_1': [15683],\n",
       "  'TE_1': [4432665, 4385690],\n",
       "  'D/ST_1': [-16025, -16023],\n",
       "  'QB_1': [4036378]},\n",
       " 3: {'WR_2': [4362628, 3126486, 2976499, 4426354, 3121422, 15795],\n",
       "  'RB_2': [3929630, 4697815, 3128720, 4372019, 3051926],\n",
       "  'TE_1': [3116365],\n",
       "  'QB_1': [4429084],\n",
       "  'RB_3': [4241985],\n",
       "  'K_1': [4360234],\n",
       "  'D/ST_1': [-16004, -16026]},\n",
       " 4: {'RB_3': [4427366, 3068267, 4426385, 4259545],\n",
       "  'RB_1': [3043078],\n",
       "  'WR_3': [4258173, 4360438, 4248528, 3045138, 4372016],\n",
       "  'WR_1': [4683062],\n",
       "  'TE_1': [3123076, 3051876],\n",
       "  'D/ST_1': [-16005],\n",
       "  'K_1': [14993],\n",
       "  'QB_1': [4432577]},\n",
       " 5: {'WR_3': [4374302, 4432708, 16737, 4432773],\n",
       "  'QB_1': [3139477],\n",
       "  'RB_3': [3116385, 2576414, 4361777, 3916148],\n",
       "  'RB_4': [4429275, 4373626, 4569173],\n",
       "  'K_1': [3917232],\n",
       "  'WR_4': [3916433],\n",
       "  'TE_1': [15847],\n",
       "  'D/ST_1': [-16001]},\n",
       " 6: {'WR_4': [3116406, 4426515, 2976212, 4635008, 4429205, 4431299],\n",
       "  'RB_4': [4239996, 4241457, 3051392, 4242431, 3042519],\n",
       "  'TE_1': [4430027],\n",
       "  'K_1': [3953687],\n",
       "  'D/ST_1': [-16020],\n",
       "  'QB_1': [4040715],\n",
       "  'D/ST_2': [-16016]},\n",
       " 7: {'WR_4': [4262921, 4047650],\n",
       "  'RB_4': [4047365],\n",
       "  'RB_5': [3045147, 4241474, 4430737],\n",
       "  'TE_2': [4360248, 4242355],\n",
       "  'WR_5': [4362249, 4612826, 3915416, 4239993],\n",
       "  'QB_1': [3915511, 2577417],\n",
       "  'D/ST_3': [-16012],\n",
       "  'K_1': [3055899]},\n",
       " 8: {'RB_5': [4429795, 4567048, 4678008, 4429096, 4428557, 4596448],\n",
       "  'WR_5': [4361370, 4426502, 2977187, 3128429, 4427095],\n",
       "  'QB_2': [3917315, 4431611],\n",
       "  'K_1': [3049899],\n",
       "  'D/ST_2': [-16018],\n",
       "  'WR_6': [16800],\n",
       "  'TE_2': [3040151]},\n",
       " 9: {'RB_6': [3117251, 4429160, 4035538, 4035676, 4360569, 4722893],\n",
       "  'WR_6': [4241389, 4366031, 3925357, 3932905, 3895856, 3116165],\n",
       "  'QB_2': [3918298],\n",
       "  'D/ST_2': [-16006],\n",
       "  'K_1': [3050478],\n",
       "  'TE_2': [2468609, 4036133]},\n",
       " 10: {'RB_6': [4240750], 'K_2': [4266790]}}"
      ]
     },
     "execution_count": 7,
     "metadata": {},
     "output_type": "execute_result"
    }
   ],
   "source": [
    "tiers_to_players"
   ]
  }
 ],
 "metadata": {
  "kernelspec": {
   "display_name": ".venv",
   "language": "python",
   "name": "python3"
  },
  "language_info": {
   "codemirror_mode": {
    "name": "ipython",
    "version": 3
   },
   "file_extension": ".py",
   "mimetype": "text/x-python",
   "name": "python",
   "nbconvert_exporter": "python",
   "pygments_lexer": "ipython3",
   "version": "3.9.6"
  }
 },
 "nbformat": 4,
 "nbformat_minor": 2
}
